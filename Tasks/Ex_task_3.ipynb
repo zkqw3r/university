{
  "cells": [
    {
      "cell_type": "markdown",
      "metadata": {
        "id": "view-in-github",
        "colab_type": "text"
      },
      "source": [
        "<a href=\"https://colab.research.google.com/github/zkqw3r/university/blob/main/Tasks/Ex_task_3.ipynb\" target=\"_parent\"><img src=\"https://colab.research.google.com/assets/colab-badge.svg\" alt=\"Open In Colab\"/></a>"
      ]
    },
    {
      "cell_type": "markdown",
      "id": "bb332bf9",
      "metadata": {
        "id": "bb332bf9"
      },
      "source": [
        "# **Дополнительное задание №3. Обработка исключений и работа с текстовыми файлами**"
      ]
    },
    {
      "cell_type": "markdown",
      "id": "aa6808db",
      "metadata": {
        "id": "aa6808db"
      },
      "source": [
        "**БАЗА:**\n",
        "\n",
        "- **Обработка исключений** позволяет перехватывать и обрабатывать ошибки, возникающие при выполнении программы, предотвращая её аварийное завершение.\n",
        "- **Работа с файлами** - важный навык для чтения, записи и обработки текстовой информации в Python.\n",
        "\n",
        "---"
      ]
    },
    {
      "cell_type": "markdown",
      "id": "2478deca",
      "metadata": {
        "id": "2478deca"
      },
      "source": [
        "## **I. Обработка исключений**"
      ]
    },
    {
      "cell_type": "markdown",
      "id": "0ab0b851",
      "metadata": {
        "id": "0ab0b851"
      },
      "source": [
        "### **Пункт №1. Обработка некорректного индекса (IndexError)**"
      ]
    },
    {
      "cell_type": "markdown",
      "id": "46e69e1f",
      "metadata": {
        "id": "46e69e1f"
      },
      "source": [
        "Создайте список из нескольких элементов (например, [10, 20, 30]). Попросите пользователя ввести индекс элемента, который нужно вывести. Если пользователь введёт индекс, выходящий за границы списка, перехватите IndexError и сообщите об этом.\n",
        "\n",
        "**ОБЯЗАТЕЛЬНО:**\n",
        "- Создайте список из минимум 5 элементов\n",
        "- Покажите содержимое списка перед работой\n",
        "- Протестируйте минимум 4 случая (корректный индекс, отрицательный, слишком большой, нечисловое значение)"
      ]
    },
    {
      "cell_type": "code",
      "execution_count": 1,
      "id": "724c5954",
      "metadata": {
        "id": "724c5954",
        "outputId": "7f23f169-fd99-4460-f77d-fa8170ecb2af",
        "colab": {
          "base_uri": "https://localhost:8080/"
        }
      },
      "outputs": [
        {
          "output_type": "stream",
          "name": "stdout",
          "text": [
            "[10, 20, 30, 63, 999]\n",
            "Введите индекс элемента: 3\n",
            "63\n"
          ]
        }
      ],
      "source": [
        "l = [10, 20, 30, 63, 999]\n",
        "print(l)\n",
        "idx = input(\"Введите индекс элемента: \")\n",
        "\n",
        "try:\n",
        "    try:\n",
        "        print(l[int(idx)])\n",
        "    except ValueError:\n",
        "        print(\"Введите индекс, а не строку!\")\n",
        "except IndexError:\n",
        "    print(\"Неправильный индекс!\")"
      ]
    },
    {
      "cell_type": "code",
      "source": [
        "l = [10, 20, 30, 63, 999]\n",
        "print(l)\n",
        "idx = input(\"Введите индекс элемента: \")\n",
        "\n",
        "try:\n",
        "    try:\n",
        "        print(l[int(idx)])\n",
        "    except ValueError:\n",
        "        print(\"Введите индекс, а не строку!\")\n",
        "except IndexError:\n",
        "    print(\"Неправильный индекс!\")"
      ],
      "metadata": {
        "id": "ugpzqXGUhTT-",
        "outputId": "fc55e80e-cd62-4914-ed9c-e752df7c95d4",
        "colab": {
          "base_uri": "https://localhost:8080/"
        }
      },
      "id": "ugpzqXGUhTT-",
      "execution_count": 2,
      "outputs": [
        {
          "output_type": "stream",
          "name": "stdout",
          "text": [
            "[10, 20, 30, 63, 999]\n",
            "Введите индекс элемента: -999\n",
            "Неправильный индекс!\n"
          ]
        }
      ]
    },
    {
      "cell_type": "markdown",
      "id": "7ac84eec",
      "metadata": {
        "id": "7ac84eec"
      },
      "source": [
        "---"
      ]
    },
    {
      "cell_type": "code",
      "source": [
        "l = [10, 20, 30, 63, 999]\n",
        "print(l)\n",
        "idx = input(\"Введите индекс элемента: \")\n",
        "\n",
        "try:\n",
        "    try:\n",
        "        print(l[int(idx)])\n",
        "    except ValueError:\n",
        "        print(\"Введите индекс, а не строку!\")\n",
        "except IndexError:\n",
        "    print(\"Неправильный индекс!\")"
      ],
      "metadata": {
        "id": "TnC5NFwWhV9O",
        "outputId": "2946308d-f16d-46ad-e132-606151a5e1bf",
        "colab": {
          "base_uri": "https://localhost:8080/"
        }
      },
      "id": "TnC5NFwWhV9O",
      "execution_count": 3,
      "outputs": [
        {
          "output_type": "stream",
          "name": "stdout",
          "text": [
            "[10, 20, 30, 63, 999]\n",
            "Введите индекс элемента: 2918357123\n",
            "Неправильный индекс!\n"
          ]
        }
      ]
    },
    {
      "cell_type": "code",
      "source": [
        "l = [10, 20, 30, 63, 999]\n",
        "print(l)\n",
        "idx = input(\"Введите индекс элемента: \")\n",
        "\n",
        "try:\n",
        "    try:\n",
        "        print(l[int(idx)])\n",
        "    except ValueError:\n",
        "        print(\"Введите индекс, а не строку!\")\n",
        "except IndexError:\n",
        "    print(\"Неправильный индекс!\")"
      ],
      "metadata": {
        "id": "cBP6ilKphW95",
        "outputId": "025a5c25-6dc7-46ed-923c-3145cbedb1e9",
        "colab": {
          "base_uri": "https://localhost:8080/"
        }
      },
      "id": "cBP6ilKphW95",
      "execution_count": 4,
      "outputs": [
        {
          "output_type": "stream",
          "name": "stdout",
          "text": [
            "[10, 20, 30, 63, 999]\n",
            "Введите индекс элемента: qwerty\n",
            "Введите индекс, а не строку!\n"
          ]
        }
      ]
    },
    {
      "cell_type": "markdown",
      "id": "f8bfb6e1",
      "metadata": {
        "id": "f8bfb6e1"
      },
      "source": [
        "### **Пункт №2. Обработка исключений в цикле**"
      ]
    },
    {
      "cell_type": "markdown",
      "id": "63c3b706",
      "metadata": {
        "id": "63c3b706"
      },
      "source": [
        "Напишите программу, которая запрашивает у пользователя числа и добавляет их в список.\n",
        "- Если пользователь вводит некорректные данные, программа должна выводить сообщение об ошибке и продолжать работу.\n",
        "- Для выхода из программы пользователь должен ввести \"стоп\".\n",
        "\n",
        "**ОБЯЗАТЕЛЬНО:**\n",
        "- Покажите процесс ввода минимум 7 значений (включая ошибочные)\n",
        "- Выведите финальный список и статистику (сколько чисел введено успешно, сколько ошибок)"
      ]
    },
    {
      "cell_type": "markdown",
      "source": [
        "\n",
        "\n",
        "```\n",
        "# Пример:\n",
        "# Введите число: 10\n",
        "# Введите число: текст (Ошибка: это не число)\n",
        "# Введите число: стоп\n",
        "# Итоговый список: [10]\n",
        "```\n",
        "\n"
      ],
      "metadata": {
        "id": "aiWaEPOuoHDS"
      },
      "id": "aiWaEPOuoHDS"
    },
    {
      "cell_type": "code",
      "execution_count": 7,
      "id": "31448e09",
      "metadata": {
        "id": "31448e09",
        "outputId": "2e0ed663-8418-48db-f8e7-d8336b6fc306",
        "colab": {
          "base_uri": "https://localhost:8080/"
        }
      },
      "outputs": [
        {
          "output_type": "stream",
          "name": "stdout",
          "text": [
            "Введите число: 0\n",
            "Введите число: 1234\n",
            "Введите число: -987652347\n",
            "Введите число: 63 63\n",
            "Ошибка: это не число\n",
            "Введите число: qwerty\n",
            "Ошибка: это не число\n",
            "Введите число: +_)(*&^%$#@\n",
            "Ошибка: это не число\n",
            "Введите число: 63\n",
            "Введите число: стоп\n",
            "[0, 1234, -987652347, 63]\n",
            "Успешно введеных чисел: 4\n",
            "Ошибок: 3\n"
          ]
        }
      ],
      "source": [
        "l = []\n",
        "err, scs = 0, 0\n",
        "\n",
        "while 1:\n",
        "    num = input(\"Введите число: \")\n",
        "    if num.lower().strip()==\"стоп\":\n",
        "        print(l)\n",
        "        print(f\"Успешно введеных чисел: {scs}\\nОшибок: {err}\")\n",
        "        break\n",
        "    if num.lstrip(\"-\").isdigit():\n",
        "        l.append(int(num))\n",
        "        scs+=1\n",
        "    else:\n",
        "        print(\"Ошибка: это не число\")\n",
        "        err+=1"
      ]
    },
    {
      "cell_type": "markdown",
      "metadata": {
        "id": "Yv-FNYTEp0vV"
      },
      "source": [
        "---"
      ],
      "id": "Yv-FNYTEp0vV"
    },
    {
      "cell_type": "markdown",
      "id": "5971f85d",
      "metadata": {
        "id": "5971f85d"
      },
      "source": [
        "### **Пункт №3**"
      ]
    },
    {
      "cell_type": "markdown",
      "id": "b1457074",
      "metadata": {
        "id": "b1457074"
      },
      "source": [
        "Создайте функцию `get_list_element(lst, index)`, которая безопасно извлекает элемент списка по индексу с использованием блоков `try`, `except`, `else` и `finally`.\n",
        "\n",
        "Функция должна:\n",
        "- Обрабатывать выход за пределы списка\n",
        "- Обрабатывать некорректный тип индекса\n",
        "- Выводить сообщение о попытке доступа в блоке `finally`\n",
        "\n",
        "**ОБЯЗАТЕЛЬНО:**\n",
        "- Выведите результаты для минимум 4 различных случаев (успешный доступ, выход за границы, отрицательный индекс, нечисловой индекс)\n",
        "- Покажите, что блок `finally` выполняется всегда\n",
        "\n",
        "```python\n",
        "# Пример использования:\n",
        "my_list = [1, 2, 3, 4, 5]\n",
        "get_list_element(my_list, 2)   # Вывод: \"Элемент: 3\", \"Попытка доступа завершена\"\n",
        "get_list_element(my_list, 10)  # Вывод: \"Индекс вне диапазона\", \"Попытка доступа завершена\"\n",
        "```"
      ]
    },
    {
      "cell_type": "code",
      "execution_count": 8,
      "id": "1c067cf3",
      "metadata": {
        "id": "1c067cf3",
        "colab": {
          "base_uri": "https://localhost:8080/"
        },
        "outputId": "b06ad504-f11a-4715-8ba4-d01740b127a7"
      },
      "outputs": [
        {
          "output_type": "stream",
          "name": "stdout",
          "text": [
            "Элемент: 3\n",
            "Попытка доступа завершена\n",
            "\n",
            "Индекс вне диапазона\n",
            "Попытка доступа завершена\n",
            "\n",
            "Элемент: 4\n",
            "Попытка доступа завершена\n",
            "\n",
            "Вместо индекса введена строка\n",
            "Попытка доступа завершена\n",
            "\n"
          ]
        }
      ],
      "source": [
        "my_list = [1, 2, 3, 4, 5]\n",
        "\n",
        "\n",
        "def get_list_element(lst, index):\n",
        "    try:\n",
        "        try:\n",
        "            print(f\"Элемент: {lst[int(index)]}\")\n",
        "        except ValueError:\n",
        "            print(\"Вместо индекса введена строка\")\n",
        "    except IndexError:\n",
        "        print(\"Индекс вне диапазона\")\n",
        "    finally:\n",
        "        print(\"Попытка доступа завершена\\n\")\n",
        "\n",
        "\n",
        "get_list_element(my_list, 2)\n",
        "get_list_element(my_list, 10)\n",
        "get_list_element(my_list, -2)\n",
        "get_list_element(my_list, \"qwerty\")"
      ]
    },
    {
      "cell_type": "markdown",
      "id": "b5bb39c7",
      "metadata": {
        "id": "b5bb39c7"
      },
      "source": [
        "---"
      ]
    },
    {
      "cell_type": "markdown",
      "id": "b0972d59",
      "metadata": {
        "id": "b0972d59"
      },
      "source": [
        "## **II. Работа с текстовыми файлами**"
      ]
    },
    {
      "cell_type": "markdown",
      "id": "35729435",
      "metadata": {
        "id": "35729435"
      },
      "source": [
        "### **Пункт №1. Запись в файл**"
      ]
    },
    {
      "cell_type": "markdown",
      "id": "3121365f",
      "metadata": {
        "id": "3121365f"
      },
      "source": [
        "Напишите программу, которая запрашивает у пользователя строку и записывает её в файл output.txt в режиме дозаписи.\n",
        "\n",
        "**ОБЯЗАТЕЛЬНО:**\n",
        "- Запросите у пользователя минимум 3 строки\n",
        "- Покажите содержимое файла после записи"
      ]
    },
    {
      "cell_type": "code",
      "execution_count": 9,
      "id": "cbce6c5f",
      "metadata": {
        "id": "cbce6c5f",
        "colab": {
          "base_uri": "https://localhost:8080/"
        },
        "outputId": "45157315-2a78-4413-f286-85b6883f2299"
      },
      "outputs": [
        {
          "output_type": "stream",
          "name": "stdout",
          "text": [
            "Введите текст: 123\n",
            "Введите текст: 12345\n",
            "Введите текст: qwerty\n",
            "123\n",
            "12345\n",
            "qwerty\n",
            "\n"
          ]
        }
      ],
      "source": [
        "with open(\"output.txt\", \"a\") as f:\n",
        "    for _ in range(3):\n",
        "        text = input(\"Введите текст: \")\n",
        "        f.write(f\"{text}\\n\")\n",
        "with open(\"output.txt\", \"r\") as f:\n",
        "    print(f.read())"
      ]
    },
    {
      "cell_type": "markdown",
      "id": "361b3d2b",
      "metadata": {
        "id": "361b3d2b"
      },
      "source": [
        "---"
      ]
    },
    {
      "cell_type": "markdown",
      "id": "cce864b4",
      "metadata": {
        "id": "cce864b4"
      },
      "source": [
        "### **Пункт №2. Чтение из файла**"
      ]
    },
    {
      "cell_type": "markdown",
      "id": "4fc83b82",
      "metadata": {
        "id": "4fc83b82"
      },
      "source": [
        "Напишите программу, которая открывает файл output.txt и выводит его содержимое на экран.\n",
        "\n",
        "**ОБЯЗАТЕЛЬНО:**\n",
        "- Создайте файл с минимум 5 строками текста\n",
        "- Покажите содержимое файла целиком\n",
        "- Обработайте случай отсутствующего файла"
      ]
    },
    {
      "cell_type": "code",
      "execution_count": 11,
      "id": "df27a986",
      "metadata": {
        "id": "df27a986",
        "colab": {
          "base_uri": "https://localhost:8080/"
        },
        "outputId": "5ed9be18-9029-466e-b3d2-b80a01ad89db"
      },
      "outputs": [
        {
          "output_type": "stream",
          "name": "stdout",
          "text": [
            "123\n",
            "12345\n",
            "qwerty\n",
            "qwe\n",
            "asd\n"
          ]
        }
      ],
      "source": [
        "try:\n",
        "    with open(\"output.txt\", \"r\") as f:\n",
        "        print(f.read())\n",
        "except:\n",
        "    print(\"Файла <output.txt> не существует\")"
      ]
    },
    {
      "cell_type": "markdown",
      "id": "2be296a2",
      "metadata": {
        "id": "2be296a2"
      },
      "source": [
        "---"
      ]
    },
    {
      "cell_type": "markdown",
      "id": "045696ba",
      "metadata": {
        "id": "045696ba"
      },
      "source": [
        "### **Пункт №3. Подсчет строк в файле**"
      ]
    },
    {
      "cell_type": "markdown",
      "id": "570ac3e9",
      "metadata": {
        "id": "570ac3e9"
      },
      "source": [
        "Напишите программу, которая открывает файл output.txt и подсчитывает количество строк в нём.\n",
        "\n",
        "**ОБЯЗАТЕЛЬНО:**\n",
        "- Создайте тестовый файл с известным количеством строк (минимум 10)\n",
        "- Покажите первые 3 строки файла\n",
        "- Выведите общее количество строк\n",
        "- Выведите количество непустых строк"
      ]
    },
    {
      "cell_type": "code",
      "execution_count": 16,
      "id": "84aa205a",
      "metadata": {
        "id": "84aa205a",
        "colab": {
          "base_uri": "https://localhost:8080/"
        },
        "outputId": "9023017b-d447-4e13-be18-7d44f5d42767"
      },
      "outputs": [
        {
          "output_type": "stream",
          "name": "stdout",
          "text": [
            "123\n",
            "12345\n",
            "qwerty\n",
            "\n",
            "Количество строк: 11\n",
            "Количество непустых строк: 10\n"
          ]
        }
      ],
      "source": [
        "try:\n",
        "    with open(\"output.txt\", \"r\") as f:\n",
        "        cnt=0\n",
        "        lst = f.read().split(\"\\n\")\n",
        "        for i in range(3):\n",
        "            print(lst[i])\n",
        "        print(f\"\\nКоличество строк: {len(lst)}\")\n",
        "        for i in lst:\n",
        "            if i!=\"\":\n",
        "                cnt+=1\n",
        "        print(f\"Количество непустых строк: {cnt}\")\n",
        "except:\n",
        "    print(\"Файла <output.txt> не существует\")"
      ]
    },
    {
      "cell_type": "markdown",
      "id": "94c6dcb0",
      "metadata": {
        "id": "94c6dcb0"
      },
      "source": [
        "---"
      ]
    },
    {
      "cell_type": "markdown",
      "id": "56f2a74e",
      "metadata": {
        "id": "56f2a74e"
      },
      "source": [
        "### **Пункт №4. Копирование содержимого файла**"
      ]
    },
    {
      "cell_type": "markdown",
      "id": "ed736046",
      "metadata": {
        "id": "ed736046"
      },
      "source": [
        "Напишите программу, которая копирует содержимое файла input.txt в файл output.txt.\n",
        "\n",
        "**ОБЯЗАТЕЛЬНО:**\n",
        "- Создайте исходный файл с тестовым содержимым (минимум 5 строк)\n",
        "- Покажите содержимое исходного файла\n",
        "- Выполните копирование\n",
        "- Покажите содержимое скопированного файла\n",
        "- Обработайте случай отсутствия исходного файла"
      ]
    },
    {
      "cell_type": "code",
      "execution_count": 22,
      "id": "31bd8a06",
      "metadata": {
        "id": "31bd8a06",
        "colab": {
          "base_uri": "https://localhost:8080/"
        },
        "outputId": "0549ad96-cbbd-464a-fe4f-1a893bdbf88f"
      },
      "outputs": [
        {
          "output_type": "stream",
          "name": "stdout",
          "text": [
            "<input.txt>:\n",
            "123\n",
            "456\n",
            "qwerty\n",
            "\n",
            "<output.txt>:\n",
            "123\n",
            "456\n",
            "qwerty\n"
          ]
        }
      ],
      "source": [
        "try:\n",
        "    with open(\"input.txt\", \"r\") as f1:\n",
        "        with open(\"output.txt\", \"r+\") as f2:\n",
        "            print(\"<input.txt>:\")\n",
        "            print(f1.read())\n",
        "            f1.seek(0)\n",
        "            f2.write(f1.read())\n",
        "            f2.seek(0)\n",
        "            print(\"\\n<output.txt>:\")\n",
        "            print(f2.read())\n",
        "except:\n",
        "    print(\"Отсутствуют необходимые файлы\")"
      ]
    },
    {
      "cell_type": "markdown",
      "id": "2f7c8ee5",
      "metadata": {
        "id": "2f7c8ee5"
      },
      "source": [
        "---"
      ]
    },
    {
      "cell_type": "markdown",
      "id": "70ee398b",
      "metadata": {
        "id": "70ee398b"
      },
      "source": [
        "### **Пункт №5. Поиск слова в файле**"
      ]
    },
    {
      "cell_type": "markdown",
      "id": "c67f8987",
      "metadata": {
        "id": "c67f8987"
      },
      "source": [
        "Напишите программу, которая открывает файл output.txt и проверяет, содержится ли в нём слово, введённое пользователем.\n",
        "\n",
        "**ОБЯЗАТЕЛЬНО:**\n",
        "- Создайте файл с минимум 10 строками текста\n",
        "- Покажите содержимое файла\n",
        "- Протестируйте поиск минимум 5 различных слов\n",
        "- Выведите номера строк, где найдено слово\n",
        "- Покажите количество вхождений слова"
      ]
    },
    {
      "cell_type": "code",
      "execution_count": 24,
      "id": "d961bbf3",
      "metadata": {
        "id": "d961bbf3",
        "colab": {
          "base_uri": "https://localhost:8080/"
        },
        "outputId": "2a931a7c-4075-414c-fcc5-b8dd76453c63"
      },
      "outputs": [
        {
          "output_type": "stream",
          "name": "stdout",
          "text": [
            "Содержимое файла output.txt:\n",
            "\n",
            "банан\n",
            "яблоко\n",
            "чупачупс\n",
            "ананас\n",
            "арбуз\n",
            "помидор\n",
            "огурец\n",
            "лук\n",
            "петрушка\n",
            "укроп\n",
            "базилик\n",
            "\n",
            "Введите слово для поиска: чупачупс\n",
            "\n",
            "Количество вхождений слова <чупачупс>: 1\n",
            "Номера строк где оно встречается: 3\n"
          ]
        }
      ],
      "source": [
        "with open(\"output.txt\", \"w\", encoding=\"utf-8\") as f:\n",
        "    f.write(\"\"\"банан\n",
        "яблоко\n",
        "чупачупс\n",
        "ананас\n",
        "арбуз\n",
        "помидор\n",
        "огурец\n",
        "лук\n",
        "петрушка\n",
        "укроп\n",
        "базилик\"\"\")\n",
        "\n",
        "with open(\"output.txt\", \"r\", encoding=\"utf-8\") as f:\n",
        "    lines = f.read().split(\"\\n\")\n",
        "    f.seek(0)\n",
        "    print(\"Содержимое файла output.txt:\\n\")\n",
        "    print(*lines,sep=\"\\n\")\n",
        "\n",
        "word = input(\"\\nВведите слово для поиска: \").lower().strip()\n",
        "\n",
        "found_lines = []\n",
        "count = 0\n",
        "\n",
        "for i, line in enumerate(lines, start=1):\n",
        "    if word in line.lower():\n",
        "        found_lines.append(i)\n",
        "        count += line.lower().count(word)\n",
        "\n",
        "if count > 0:\n",
        "    print(f\"\\nКоличество вхождений слова <{word}>: {count}\")\n",
        "    print(\"Номера строк где оно встречается:\", *found_lines)\n",
        "else:\n",
        "    print(f\"\\nСлово '{word}' не найдено в файле\")\n"
      ]
    },
    {
      "cell_type": "code",
      "source": [
        "with open(\"output.txt\", \"r\", encoding=\"utf-8\") as f:\n",
        "    lines = f.read().split(\"\\n\")\n",
        "    f.seek(0)\n",
        "    print(\"Содержимое файла output.txt:\\n\")\n",
        "    print(*lines,sep=\"\\n\")\n",
        "\n",
        "word = input(\"\\nВведите слово для поиска: \").lower().strip()\n",
        "\n",
        "found_lines = []\n",
        "count = 0\n",
        "\n",
        "for i, line in enumerate(lines, start=1):\n",
        "    if word in line.lower():\n",
        "        found_lines.append(i)\n",
        "        count += line.lower().count(word)\n",
        "\n",
        "if count > 0:\n",
        "    print(f\"\\nКоличество вхождений слова <{word}>: {count}\")\n",
        "    print(\"Номера строк где оно встречается:\", *found_lines)\n",
        "else:\n",
        "    print(f\"\\nСлово '{word}' не найдено в файле\")"
      ],
      "metadata": {
        "colab": {
          "base_uri": "https://localhost:8080/"
        },
        "id": "u4AxEWCGyB1G",
        "outputId": "6cd152e5-1a06-4dcf-d2fe-d03a9486710a"
      },
      "id": "u4AxEWCGyB1G",
      "execution_count": 25,
      "outputs": [
        {
          "output_type": "stream",
          "name": "stdout",
          "text": [
            "Содержимое файла output.txt:\n",
            "\n",
            "банан\n",
            "яблоко\n",
            "чупачупс\n",
            "ананас\n",
            "арбуз\n",
            "помидор\n",
            "огурец\n",
            "лук\n",
            "петрушка\n",
            "укроп\n",
            "базилик\n",
            "\n",
            "Введите слово для поиска: банан\n",
            "\n",
            "Количество вхождений слова <банан>: 1\n",
            "Номера строк где оно встречается: 1\n"
          ]
        }
      ]
    },
    {
      "cell_type": "code",
      "source": [
        "with open(\"output.txt\", \"r\", encoding=\"utf-8\") as f:\n",
        "    lines = f.read().split(\"\\n\")\n",
        "    f.seek(0)\n",
        "    print(\"Содержимое файла output.txt:\\n\")\n",
        "    print(*lines,sep=\"\\n\")\n",
        "\n",
        "word = input(\"\\nВведите слово для поиска: \").lower().strip()\n",
        "\n",
        "found_lines = []\n",
        "count = 0\n",
        "\n",
        "for i, line in enumerate(lines, start=1):\n",
        "    if word in line.lower():\n",
        "        found_lines.append(i)\n",
        "        count += line.lower().count(word)\n",
        "\n",
        "if count > 0:\n",
        "    print(f\"\\nКоличество вхождений слова <{word}>: {count}\")\n",
        "    print(\"Номера строк где оно встречается:\", *found_lines)\n",
        "else:\n",
        "    print(f\"\\nСлово '{word}' не найдено в файле\")"
      ],
      "metadata": {
        "colab": {
          "base_uri": "https://localhost:8080/"
        },
        "id": "lxsPmW2ayH99",
        "outputId": "58392c08-327d-4f52-d2a3-4c2cc0044d9d"
      },
      "id": "lxsPmW2ayH99",
      "execution_count": 26,
      "outputs": [
        {
          "output_type": "stream",
          "name": "stdout",
          "text": [
            "Содержимое файла output.txt:\n",
            "\n",
            "банан\n",
            "яблоко\n",
            "чупачупс\n",
            "ананас\n",
            "арбуз\n",
            "помидор\n",
            "огурец\n",
            "лук\n",
            "петрушка\n",
            "укроп\n",
            "базилик\n",
            "\n",
            "Введите слово для поиска: яблоко\n",
            "\n",
            "Количество вхождений слова <яблоко>: 1\n",
            "Номера строк где оно встречается: 2\n"
          ]
        }
      ]
    },
    {
      "cell_type": "code",
      "source": [
        "with open(\"output.txt\", \"r\", encoding=\"utf-8\") as f:\n",
        "    lines = f.read().split(\"\\n\")\n",
        "    f.seek(0)\n",
        "    print(\"Содержимое файла output.txt:\\n\")\n",
        "    print(*lines,sep=\"\\n\")\n",
        "\n",
        "word = input(\"\\nВведите слово для поиска: \").lower().strip()\n",
        "\n",
        "found_lines = []\n",
        "count = 0\n",
        "\n",
        "for i, line in enumerate(lines, start=1):\n",
        "    if word in line.lower():\n",
        "        found_lines.append(i)\n",
        "        count += line.lower().count(word)\n",
        "\n",
        "if count > 0:\n",
        "    print(f\"\\nКоличество вхождений слова <{word}>: {count}\")\n",
        "    print(\"Номера строк где оно встречается:\", *found_lines)\n",
        "else:\n",
        "    print(f\"\\nСлово '{word}' не найдено в файле\")"
      ],
      "metadata": {
        "colab": {
          "base_uri": "https://localhost:8080/"
        },
        "id": "VbAoRK_xyKGw",
        "outputId": "2fdfe7dd-414b-4b60-d1b0-d423d8a743f4"
      },
      "id": "VbAoRK_xyKGw",
      "execution_count": 27,
      "outputs": [
        {
          "output_type": "stream",
          "name": "stdout",
          "text": [
            "Содержимое файла output.txt:\n",
            "\n",
            "банан\n",
            "яблоко\n",
            "чупачупс\n",
            "ананас\n",
            "арбуз\n",
            "помидор\n",
            "огурец\n",
            "лук\n",
            "петрушка\n",
            "укроп\n",
            "базилик\n",
            "\n",
            "Введите слово для поиска: бигмак\n",
            "\n",
            "Слово 'бигмак' не найдено в файле\n"
          ]
        }
      ]
    },
    {
      "cell_type": "code",
      "source": [
        "with open(\"output.txt\", \"r\", encoding=\"utf-8\") as f:\n",
        "    lines = f.read().split(\"\\n\")\n",
        "    f.seek(0)\n",
        "    print(\"Содержимое файла output.txt:\\n\")\n",
        "    print(*lines,sep=\"\\n\")\n",
        "\n",
        "word = input(\"\\nВведите слово для поиска: \").lower().strip()\n",
        "\n",
        "found_lines = []\n",
        "count = 0\n",
        "\n",
        "for i, line in enumerate(lines, start=1):\n",
        "    if word in line.lower():\n",
        "        found_lines.append(i)\n",
        "        count += line.lower().count(word)\n",
        "\n",
        "if count > 0:\n",
        "    print(f\"\\nКоличество вхождений слова <{word}>: {count}\")\n",
        "    print(\"Номера строк где оно встречается:\", *found_lines)\n",
        "else:\n",
        "    print(f\"\\nСлово '{word}' не найдено в файле\")"
      ],
      "metadata": {
        "colab": {
          "base_uri": "https://localhost:8080/"
        },
        "id": "1YlRuMKjyPsO",
        "outputId": "9febb890-0bb3-475b-9095-1908def0bff3"
      },
      "id": "1YlRuMKjyPsO",
      "execution_count": 28,
      "outputs": [
        {
          "output_type": "stream",
          "name": "stdout",
          "text": [
            "Содержимое файла output.txt:\n",
            "\n",
            "банан\n",
            "яблоко\n",
            "чупачупс\n",
            "ананас\n",
            "арбуз\n",
            "помидор\n",
            "огурец\n",
            "лук\n",
            "петрушка\n",
            "укроп\n",
            "базилик\n",
            "\n",
            "Введите слово для поиска: арбуз\n",
            "\n",
            "Количество вхождений слова <арбуз>: 1\n",
            "Номера строк где оно встречается: 5\n"
          ]
        }
      ]
    },
    {
      "cell_type": "markdown",
      "id": "8d69c77a",
      "metadata": {
        "id": "8d69c77a"
      },
      "source": [
        "---"
      ]
    },
    {
      "cell_type": "markdown",
      "id": "0079e067",
      "metadata": {
        "id": "0079e067"
      },
      "source": [
        "### **Пункт №6. Чтение файла с обработкой FileNotFoundError**"
      ]
    },
    {
      "cell_type": "markdown",
      "id": "c3d27312",
      "metadata": {
        "id": "c3d27312"
      },
      "source": [
        "Напишите программу, которая запрашивает у пользователя имя файла и пытается открыть его. Если файла не существует, перехватите FileNotFoundError и выведите сообщение «Файл не найден!».\n",
        "\n",
        "**ОБЯЗАТЕЛЬНО:**\n",
        "- Протестируйте с существующим файлом\n",
        "- Протестируйте с несуществующим файлом\n",
        "- Покажите содержимое существующего файла"
      ]
    },
    {
      "cell_type": "code",
      "execution_count": 29,
      "id": "0c262bd2",
      "metadata": {
        "id": "0c262bd2",
        "colab": {
          "base_uri": "https://localhost:8080/"
        },
        "outputId": "04f6de92-8a0e-4bd8-ef30-e5ba4771f8fb"
      },
      "outputs": [
        {
          "output_type": "stream",
          "name": "stdout",
          "text": [
            "Введите название файла: qwerty\n",
            "Файл не найден!\n"
          ]
        }
      ],
      "source": [
        "file = input(\"Введите название файла: \")\n",
        "\n",
        "try:\n",
        "    with open(file, \"r\", encoding=\"UTF-8\") as f:\n",
        "        print(f.read())\n",
        "except FileNotFoundError:\n",
        "    print(\"Файл не найден!\")"
      ]
    },
    {
      "cell_type": "code",
      "source": [
        "file = input(\"Введите название файла: \")\n",
        "\n",
        "try:\n",
        "    with open(file, \"r\", encoding=\"UTF-8\") as f:\n",
        "        print(f.read())\n",
        "except FileNotFoundError:\n",
        "    print(\"Файл не найден!\")"
      ],
      "metadata": {
        "colab": {
          "base_uri": "https://localhost:8080/"
        },
        "id": "O_VmeNghzDJt",
        "outputId": "a5b7ba20-4600-49aa-e174-e5a6c132700b"
      },
      "id": "O_VmeNghzDJt",
      "execution_count": 30,
      "outputs": [
        {
          "output_type": "stream",
          "name": "stdout",
          "text": [
            "Введите название файла: output.txt\n",
            "банан\n",
            "яблоко\n",
            "чупачупс\n",
            "ананас\n",
            "арбуз\n",
            "помидор\n",
            "огурец\n",
            "лук\n",
            "петрушка\n",
            "укроп\n",
            "базилик\n"
          ]
        }
      ]
    },
    {
      "cell_type": "markdown",
      "id": "c3258b46",
      "metadata": {
        "id": "c3258b46"
      },
      "source": [
        "---"
      ]
    },
    {
      "cell_type": "markdown",
      "id": "02e0767b",
      "metadata": {
        "id": "02e0767b"
      },
      "source": [
        "### **Пункт №7. Подсчет статистики файла**"
      ]
    },
    {
      "cell_type": "markdown",
      "id": "1c33b711",
      "metadata": {
        "id": "1c33b711"
      },
      "source": [
        "Напишите функцию `file_statistics(filename)`, которая читает текстовый файл и возвращает словарь со статистикой:\n",
        "- Количество строк\n",
        "- Количество слов\n",
        "- Количество символов (с пробелами и без)\n",
        "\n",
        "**ОБЯЗАТЕЛЬНО:**\n",
        "- Создайте тестовый файл с минимум 5 строками текста\n",
        "- Выведите содержимое файла ДО обработки\n",
        "- Выведите полученную статистику\n",
        "- Обработайте случай несуществующего файла\n",
        "\n",
        "```python\n",
        "# Создание тестового файла\n",
        "test_content = \"\"\"Первая строка текста\n",
        "Вторая строка с большим количеством слов\n",
        "Третья строка\n",
        "Четвертая строка для теста\n",
        "Пятая и последняя строка\"\"\"\n",
        "\n",
        "# Сохраните в файл и продемонстрируйте работу\n",
        "```"
      ]
    },
    {
      "cell_type": "code",
      "execution_count": 31,
      "id": "43bfd6b8",
      "metadata": {
        "id": "43bfd6b8",
        "colab": {
          "base_uri": "https://localhost:8080/"
        },
        "outputId": "279141a9-9599-448b-8c51-73a8bd8b90ad"
      },
      "outputs": [
        {
          "output_type": "stream",
          "name": "stdout",
          "text": [
            "Первая строка текста\n",
            "Вторая строка с большим количеством слов\n",
            "Третья строка\n",
            "Четвертая строка для теста\n",
            "Пятая и последняя строка\n",
            "Колво строк: 5\n",
            "Колво слов: 19\n",
            "Колво символов (с пробелами): 127\n",
            "Колво символов (без пробелов): 109\n"
          ]
        }
      ],
      "source": [
        "def file_statistics(filename):\n",
        "    file_data = {}\n",
        "    with open(filename, encoding=\"UTF-8\", mode=\"r\") as f:\n",
        "        data = f.read().split('\\n')\n",
        "        file_data[\"count_str\"] = len(data)\n",
        "        file_data[\"count_words\"] = len(' '.join(data).split())\n",
        "        file_data[\"count_char_with_space\"] = len(' '.join(data))\n",
        "        file_data[\"count_char_without_space\"] = len(''.join(data).replace(' ', ''))\n",
        "        return file_data\n",
        "\n",
        "\n",
        "with open(\"file.txt\", encoding=\"UTF-8\", mode=\"r+\") as f:\n",
        "    test_content = \"\"\"Первая строка текста\n",
        "Вторая строка с большим количеством слов\n",
        "Третья строка\n",
        "Четвертая строка для теста\n",
        "Пятая и последняя строка\"\"\"\n",
        "    f.write(test_content)\n",
        "    f.seek(0)\n",
        "    print(*f.read().split(\"\\n\"), sep=\"\\n\")\n",
        "\n",
        "file_data = file_statistics(\"file.txt\")\n",
        "print(f\"Колво строк: {file_data.get('count_str')}\\n\"+\n",
        "      f\"Колво слов: {file_data.get('count_words')}\\n\"+\n",
        "      f\"Колво символов (с пробелами): {file_data.get('count_char_with_space')}\\n\"+\n",
        "      f\"Колво символов (без пробелов): {file_data.get('count_char_without_space')}\")"
      ]
    },
    {
      "cell_type": "markdown",
      "id": "903281dd",
      "metadata": {
        "id": "903281dd"
      },
      "source": [
        "---"
      ]
    },
    {
      "cell_type": "markdown",
      "id": "ad8b4ae4",
      "metadata": {
        "id": "ad8b4ae4"
      },
      "source": [
        "### **Пункт №8. Поиск и замена в файле**"
      ]
    },
    {
      "cell_type": "markdown",
      "id": "e5230d0a",
      "metadata": {
        "id": "e5230d0a"
      },
      "source": [
        "Напишите функцию `replace_in_file(filename, old_text, new_text)`, которая заменяет все вхождения `old_text` на `new_text` в файле и сохраняет результат в новый файл с префиксом \"modified_\".\n",
        "\n",
        "**ОБЯЗАТЕЛЬНО:**\n",
        "- Создайте файл с текстом, содержащим минимум 3 вхождения заменяемого слова\n",
        "- Выведите содержимое файла ДО замены\n",
        "- Выполните замену\n",
        "- Выведите содержимое файла ПОСЛЕ замены\n",
        "- Покажите количество произведенных замен"
      ]
    },
    {
      "cell_type": "code",
      "execution_count": 32,
      "id": "64a05e35",
      "metadata": {
        "id": "64a05e35",
        "colab": {
          "base_uri": "https://localhost:8080/"
        },
        "outputId": "eea01c61-37be-4acf-af85-0770d0dc0c9f"
      },
      "outputs": [
        {
          "output_type": "stream",
          "name": "stdout",
          "text": [
            "Старый файл:\n",
            "63 77 63\n",
            "63 63 63\n",
            "77 63 77\n",
            "\n",
            "Новый файл:\n",
            "63 63 63\n",
            "63 63 63\n",
            "63 63 63\n",
            "\n",
            "Количество замен: 3\n"
          ]
        }
      ],
      "source": [
        "def replace_in_file(filename, old_text, new_text):\n",
        "    with open(filename, encoding=\"UTF-8\", mode=\"r\") as f:\n",
        "        old_data = f.read()\n",
        "    print(f\"Старый файл:\\n{old_data}\")\n",
        "    cnt = old_data.count(old_text)\n",
        "    new_data = old_data.replace(old_text, new_text)\n",
        "\n",
        "    new_filename = \"modified_\" + filename\n",
        "    with open(new_filename, \"w\", encoding=\"utf-8\") as f:\n",
        "        f.write(new_data)\n",
        "    print(f\"\\nНовый файл:\\n{new_data}\")\n",
        "    print(f\"\\nКоличество замен: {cnt}\")\n",
        "\n",
        "replace_in_file(\"task8.txt\", \"77\", \"63\")"
      ]
    },
    {
      "cell_type": "markdown",
      "id": "f77b0568",
      "metadata": {
        "id": "f77b0568"
      },
      "source": [
        "---"
      ]
    },
    {
      "cell_type": "markdown",
      "id": "79a081b1",
      "metadata": {
        "id": "79a081b1"
      },
      "source": [
        "### **Пункт №9. Объединение файлов**"
      ]
    },
    {
      "cell_type": "markdown",
      "id": "599cee3c",
      "metadata": {
        "id": "599cee3c"
      },
      "source": [
        "Создайте функцию `merge_files(file_list, output_file)`, которая объединяет содержимое нескольких текстовых файлов в один, добавляя после каждого разделитель.\n",
        "\n",
        "**ОБЯЗАТЕЛЬНО:**\n",
        "- Создайте минимум 3 файла с разным содержимым\n",
        "- Выведите содержимое КАЖДОГО исходного файла\n",
        "- Выполните объединение\n",
        "- Выведите содержимое результирующего файла"
      ]
    },
    {
      "cell_type": "code",
      "execution_count": 34,
      "id": "581b5868",
      "metadata": {
        "id": "581b5868",
        "colab": {
          "base_uri": "https://localhost:8080/"
        },
        "outputId": "601ead59-80a4-4fde-bb5b-b298d2b24479"
      },
      "outputs": [
        {
          "output_type": "stream",
          "name": "stdout",
          "text": [
            "Содержимое исходных файлов:\n",
            "\n",
            "--- file1.txt ---\n",
            "файл номер 1\n",
            "--------------------\n",
            "\n",
            "--- file2.txt ---\n",
            "файл номер 2\n",
            "123\n",
            "--------------------\n",
            "\n",
            "--- file3.txt ---\n",
            "Файл\n",
            "номер\n",
            "3\n",
            "--------------------\n",
            "\n",
            "Содержимое итогового файла:\n",
            "\n",
            "файл номер 1\n",
            "--------------------\n",
            "файл номер 2\n",
            "123\n",
            "--------------------\n",
            "Файл\n",
            "номер\n",
            "3\n",
            "--------------------\n",
            "\n"
          ]
        }
      ],
      "source": [
        "def merge_files(file_list, output_file):\n",
        "    print(\"Содержимое исходных файлов:\\n\")\n",
        "    for filename in file_list:\n",
        "        with open(filename, \"r\", encoding=\"utf-8\") as f:\n",
        "            data = f.read()\n",
        "            print(f\"--- {filename} ---\")\n",
        "            print(data)\n",
        "            print(\"-\" * 20+ \"\\n\")\n",
        "\n",
        "    sep = \"\\n\" + (\"-\" * 20) + \"\\n\"\n",
        "    replaceable = \"\"\n",
        "\n",
        "    for filename in file_list:\n",
        "        with open(filename, \"r\", encoding=\"utf-8\") as f:\n",
        "            replaceable += f.read().strip() + sep\n",
        "\n",
        "    with open(output_file, \"w\", encoding=\"utf-8\") as f:\n",
        "        f.write(replaceable)\n",
        "\n",
        "    print(\"Содержимое итогового файла:\\n\")\n",
        "    with open(output_file, \"r\", encoding=\"utf-8\") as f:\n",
        "        print(f.read())\n",
        "\n",
        "with open(\"file1.txt\", \"w\", encoding=\"utf-8\") as f:\n",
        "    f.write(\"файл номер 1\")\n",
        "with open(\"file2.txt\", \"w\", encoding=\"utf-8\") as f:\n",
        "    f.write(\"файл номер 2\\n123\")\n",
        "with open(\"file3.txt\", \"w\", encoding=\"utf-8\") as f:\n",
        "    f.write(\"Файл\\nномер\\n3\")\n",
        "\n",
        "merge_files([\"file1.txt\", \"file2.txt\", \"file3.txt\"], \"merged.txt\")\n"
      ]
    },
    {
      "cell_type": "markdown",
      "id": "eb866091",
      "metadata": {
        "id": "eb866091"
      },
      "source": [
        "---"
      ]
    }
  ],
  "metadata": {
    "colab": {
      "provenance": [],
      "include_colab_link": true
    },
    "language_info": {
      "name": "python"
    },
    "kernelspec": {
      "name": "python3",
      "display_name": "Python 3"
    }
  },
  "nbformat": 4,
  "nbformat_minor": 5
}